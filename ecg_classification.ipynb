{
  "cells": [
    {
      "cell_type": "code",
      "execution_count": 5,
      "metadata": {
        "colab": {},
        "colab_type": "code",
        "id": "md1fNXY362OA"
      },
      "outputs": [],
      "source": [
        "from os import listdir\n",
        "from os.path import isfile, join\n",
        "from sklearn.metrics import accuracy_score\n",
        "from keras.callbacks import ModelCheckpoint\n",
        "import pandas as pd\n",
        "import scipy.io as sio\n",
        "import json\n",
        "import numpy as np\n",
        "from keras.models import Sequential\n",
        "from keras.layers import Dense, Activation, Dropout, Conv1D, GlobalAveragePooling1D, MaxPooling1D\n",
        "import matplotlib.pyplot as plt"
      ]
    },
    {
      "cell_type": "code",
      "execution_count": 6,
      "metadata": {},
      "outputs": [],
      "source": [
        "# path of data\n",
        "path = 'training2017/'"
      ]
    },
    {
      "cell_type": "code",
      "execution_count": 7,
      "metadata": {
        "colab": {
          "base_uri": "https://localhost:8080/",
          "height": 34
        },
        "colab_type": "code",
        "id": "VJWSOFvh-iQw",
        "outputId": "601ec37e-dcdd-4b7e-e264-a9b6c391f692"
      },
      "outputs": [
        {
          "name": "stdout",
          "output_type": "stream",
          "text": [
            "Full Data Size: 8528\n"
          ]
        }
      ],
      "source": [
        "# load data \n",
        "mats = [f for f in listdir(path) if ( f[0] == 'A' and f[7] == 'm')]\n",
        "size = len(mats)\n",
        "print('Full Data Size:', len(mats))"
      ]
    },
    {
      "cell_type": "code",
      "execution_count": 8,
      "metadata": {
        "colab": {},
        "colab_type": "code",
        "id": "ZQ-DnDqsBEar"
      },
      "outputs": [],
      "source": [
        "# preprocessing data\n",
        "max_ecg_len = 10000\n",
        "full_data = np.zeros((size, max_ecg_len))\n",
        "for i in range(size):\n",
        "    temp = sio.loadmat(path + mats[i])['val'][0, :]\n",
        "    if (max_ecg_len <= len(temp)):   # data length >= 10000, cut down\n",
        "        full_data[i, :] = temp[0:max_ecg_len]\n",
        "    else:                            # data length < 10000, add in\n",
        "        add_in = temp[0:(max_ecg_len - len(temp))]\n",
        "        result = np.hstack((temp, add_in))\n",
        "        while len(result) < max_ecg_len:\n",
        "            add_in = temp[0:(max_ecg_len - len(result))]\n",
        "            result = np.hstack((result, add_in))\n",
        "        full_data[i, :] = result\n",
        "\n",
        "# normalization\n",
        "full_data = (full_data - full_data.mean())/(full_data.std())\n",
        "full_data = np.expand_dims(full_data, axis=2)\n",
        "\n",
        "# preprocessing labels\n",
        "full_label = np.zeros((size, 1))\n",
        "labels = pd.read_csv(path + 'REFERENCE.csv', sep=',', header=None, names=None)\n",
        "for i in range(size):\n",
        "    if labels.loc[labels[0] == mats[i][:6], 1].values == 'N':\n",
        "        full_label[i] = 0\n",
        "    elif labels.loc[labels[0] == mats[i][:6], 1].values == 'A':\n",
        "        full_label[i] = 1\n",
        "    elif labels.loc[labels[0] == mats[i][:6], 1].values == 'O':\n",
        "        full_label[i] = 2\n",
        "    else:\n",
        "        full_label[i] = 3\n",
        "\n",
        "# one-hot coding for labels\n",
        "full_target = np.zeros((size, 4))\n",
        "for i in range(size):\n",
        "    temp = np.zeros(4)\n",
        "    temp[int(full_label[i])] = 1\n",
        "    full_target[i, :] = temp"
      ]
    },
    {
      "cell_type": "code",
      "execution_count": 9,
      "metadata": {
        "colab": {},
        "colab_type": "code",
        "id": "20M5i_jeCH9C"
      },
      "outputs": [],
      "source": [
        "# divide train and validation data\n",
        "train_size = 0.9\n",
        "num_epochs = 30\n",
        "batch_size = 256\n",
        "verbose = 2\n",
        "\n",
        "X_train = full_data[:int(train_size * size), :]\n",
        "y_train = full_target[:int(train_size * size), :]\n",
        "X_val = full_data[int(train_size * size):, :]\n",
        "y_val = full_target[int(train_size * size):, :]"
      ]
    },
    {
      "cell_type": "code",
      "execution_count": 10,
      "metadata": {
        "colab": {},
        "colab_type": "code",
        "id": "t9hC8MLxCUnA"
      },
      "outputs": [],
      "source": [
        "# build model with keras sequential\n",
        "model = Sequential([\n",
        "    Conv1D(64, 55, activation='relu', input_shape=(max_ecg_len, 1)),\n",
        "    MaxPooling1D(10),\n",
        "    Dropout(0.5),\n",
        "\n",
        "    Conv1D(64, 25, activation='relu'),\n",
        "    MaxPooling1D(5),\n",
        "    Dropout(0.5),\n",
        "\n",
        "    Conv1D(64, 10, activation='relu'),\n",
        "    MaxPooling1D(5),\n",
        "    Dropout(0.5),\n",
        "\n",
        "    Conv1D(64, 5, activation='relu'),\n",
        "    GlobalAveragePooling1D(),\n",
        "\n",
        "    Dense(256, kernel_initializer='normal', activation='relu'),\n",
        "    Dropout(0.5),\n",
        "\n",
        "    Dense(128, kernel_initializer='normal', activation='relu'),\n",
        "    Dropout(0.5),\n",
        "\n",
        "    Dense(64, kernel_initializer='normal', activation='relu'),\n",
        "    Dropout(0.5),\n",
        "\n",
        "    Dense(4, kernel_initializer='normal', activation='softmax'),\n",
        "])"
      ]
    },
    {
      "cell_type": "code",
      "execution_count": 11,
      "metadata": {
        "colab": {
          "base_uri": "https://localhost:8080/",
          "height": 765
        },
        "colab_type": "code",
        "id": "aBglpIxzGDw4",
        "outputId": "bb1c89de-cd8b-43d2-d1b2-4a877acb1435"
      },
      "outputs": [
        {
          "name": "stdout",
          "output_type": "stream",
          "text": [
            "Model: \"sequential\"\n",
            "_________________________________________________________________\n",
            " Layer (type)                Output Shape              Param #   \n",
            "=================================================================\n",
            " conv1d (Conv1D)             (None, 9946, 64)          3584      \n",
            "                                                                 \n",
            " max_pooling1d (MaxPooling1D  (None, 994, 64)          0         \n",
            " )                                                               \n",
            "                                                                 \n",
            " dropout (Dropout)           (None, 994, 64)           0         \n",
            "                                                                 \n",
            " conv1d_1 (Conv1D)           (None, 970, 64)           102464    \n",
            "                                                                 \n",
            " max_pooling1d_1 (MaxPooling  (None, 194, 64)          0         \n",
            " 1D)                                                             \n",
            "                                                                 \n",
            " dropout_1 (Dropout)         (None, 194, 64)           0         \n",
            "                                                                 \n",
            " conv1d_2 (Conv1D)           (None, 185, 64)           41024     \n",
            "                                                                 \n",
            " max_pooling1d_2 (MaxPooling  (None, 37, 64)           0         \n",
            " 1D)                                                             \n",
            "                                                                 \n",
            " dropout_2 (Dropout)         (None, 37, 64)            0         \n",
            "                                                                 \n",
            " conv1d_3 (Conv1D)           (None, 33, 64)            20544     \n",
            "                                                                 \n",
            " global_average_pooling1d (G  (None, 64)               0         \n",
            " lobalAveragePooling1D)                                          \n",
            "                                                                 \n",
            " dense (Dense)               (None, 256)               16640     \n",
            "                                                                 \n",
            " dropout_3 (Dropout)         (None, 256)               0         \n",
            "                                                                 \n",
            " dense_1 (Dense)             (None, 128)               32896     \n",
            "                                                                 \n",
            " dropout_4 (Dropout)         (None, 128)               0         \n",
            "                                                                 \n",
            " dense_2 (Dense)             (None, 64)                8256      \n",
            "                                                                 \n",
            " dropout_5 (Dropout)         (None, 64)                0         \n",
            "                                                                 \n",
            " dense_3 (Dense)             (None, 4)                 260       \n",
            "                                                                 \n",
            "=================================================================\n",
            "Total params: 225,668\n",
            "Trainable params: 225,668\n",
            "Non-trainable params: 0\n",
            "_________________________________________________________________\n"
          ]
        }
      ],
      "source": [
        "#check model sanity\n",
        "model.summary()"
      ]
    },
    {
      "cell_type": "code",
      "execution_count": 12,
      "metadata": {
        "colab": {},
        "colab_type": "code",
        "id": "ielPF2hfDwfR"
      },
      "outputs": [
        {
          "name": "stdout",
          "output_type": "stream",
          "text": [
            "Epoch 1/30\n",
            "WARNING:tensorflow:Can save best model only with val_acc available, skipping.\n",
            "30/30 - 57s - loss: 1.1635 - accuracy: 0.5691 - val_loss: 1.0896 - val_accuracy: 0.5416 - 57s/epoch - 2s/step\n",
            "Epoch 2/30\n",
            "WARNING:tensorflow:Can save best model only with val_acc available, skipping.\n",
            "30/30 - 58s - loss: 1.0089 - accuracy: 0.5965 - val_loss: 1.0000 - val_accuracy: 0.5416 - 58s/epoch - 2s/step\n",
            "Epoch 3/30\n",
            "WARNING:tensorflow:Can save best model only with val_acc available, skipping.\n",
            "30/30 - 59s - loss: 0.9450 - accuracy: 0.5977 - val_loss: 0.9672 - val_accuracy: 0.5416 - 59s/epoch - 2s/step\n",
            "Epoch 4/30\n",
            "WARNING:tensorflow:Can save best model only with val_acc available, skipping.\n",
            "30/30 - 57s - loss: 0.8946 - accuracy: 0.5978 - val_loss: 0.9130 - val_accuracy: 0.5416 - 57s/epoch - 2s/step\n",
            "Epoch 5/30\n",
            "WARNING:tensorflow:Can save best model only with val_acc available, skipping.\n",
            "30/30 - 59s - loss: 0.8383 - accuracy: 0.6100 - val_loss: 0.9450 - val_accuracy: 0.5733 - 59s/epoch - 2s/step\n",
            "Epoch 6/30\n",
            "WARNING:tensorflow:Can save best model only with val_acc available, skipping.\n",
            "30/30 - 57s - loss: 0.8106 - accuracy: 0.6571 - val_loss: 0.8261 - val_accuracy: 0.6284 - 57s/epoch - 2s/step\n",
            "Epoch 7/30\n",
            "WARNING:tensorflow:Can save best model only with val_acc available, skipping.\n",
            "30/30 - 60s - loss: 0.7669 - accuracy: 0.6900 - val_loss: 0.7874 - val_accuracy: 0.6342 - 60s/epoch - 2s/step\n",
            "Epoch 8/30\n",
            "WARNING:tensorflow:Can save best model only with val_acc available, skipping.\n",
            "30/30 - 61s - loss: 0.7393 - accuracy: 0.6995 - val_loss: 0.7506 - val_accuracy: 0.6471 - 61s/epoch - 2s/step\n",
            "Epoch 9/30\n",
            "WARNING:tensorflow:Can save best model only with val_acc available, skipping.\n",
            "30/30 - 60s - loss: 0.7165 - accuracy: 0.7139 - val_loss: 0.6991 - val_accuracy: 0.6905 - 60s/epoch - 2s/step\n",
            "Epoch 10/30\n",
            "WARNING:tensorflow:Can save best model only with val_acc available, skipping.\n",
            "30/30 - 60s - loss: 0.6803 - accuracy: 0.7236 - val_loss: 0.6682 - val_accuracy: 0.6940 - 60s/epoch - 2s/step\n",
            "Epoch 11/30\n",
            "WARNING:tensorflow:Can save best model only with val_acc available, skipping.\n",
            "30/30 - 73s - loss: 0.6462 - accuracy: 0.7350 - val_loss: 0.6485 - val_accuracy: 0.6870 - 73s/epoch - 2s/step\n",
            "Epoch 12/30\n",
            "WARNING:tensorflow:Can save best model only with val_acc available, skipping.\n",
            "30/30 - 98s - loss: 0.6325 - accuracy: 0.7386 - val_loss: 0.6481 - val_accuracy: 0.7022 - 98s/epoch - 3s/step\n",
            "Epoch 13/30\n",
            "WARNING:tensorflow:Can save best model only with val_acc available, skipping.\n",
            "30/30 - 80s - loss: 0.6152 - accuracy: 0.7435 - val_loss: 0.5897 - val_accuracy: 0.7468 - 80s/epoch - 3s/step\n",
            "Epoch 14/30\n",
            "WARNING:tensorflow:Can save best model only with val_acc available, skipping.\n",
            "30/30 - 56s - loss: 0.6013 - accuracy: 0.7526 - val_loss: 0.5787 - val_accuracy: 0.7714 - 56s/epoch - 2s/step\n",
            "Epoch 15/30\n",
            "WARNING:tensorflow:Can save best model only with val_acc available, skipping.\n",
            "30/30 - 69s - loss: 0.5962 - accuracy: 0.7648 - val_loss: 0.5700 - val_accuracy: 0.7386 - 69s/epoch - 2s/step\n",
            "Epoch 16/30\n",
            "WARNING:tensorflow:Can save best model only with val_acc available, skipping.\n",
            "30/30 - 65s - loss: 0.5666 - accuracy: 0.7713 - val_loss: 0.5708 - val_accuracy: 0.7620 - 65s/epoch - 2s/step\n",
            "Epoch 17/30\n",
            "WARNING:tensorflow:Can save best model only with val_acc available, skipping.\n",
            "30/30 - 58s - loss: 0.5531 - accuracy: 0.7779 - val_loss: 0.5724 - val_accuracy: 0.7749 - 58s/epoch - 2s/step\n",
            "Epoch 18/30\n",
            "WARNING:tensorflow:Can save best model only with val_acc available, skipping.\n",
            "30/30 - 57s - loss: 0.5483 - accuracy: 0.7855 - val_loss: 0.5370 - val_accuracy: 0.7960 - 57s/epoch - 2s/step\n",
            "Epoch 19/30\n",
            "WARNING:tensorflow:Can save best model only with val_acc available, skipping.\n",
            "30/30 - 57s - loss: 0.5383 - accuracy: 0.7904 - val_loss: 0.5307 - val_accuracy: 0.7937 - 57s/epoch - 2s/step\n",
            "Epoch 20/30\n",
            "WARNING:tensorflow:Can save best model only with val_acc available, skipping.\n",
            "30/30 - 58s - loss: 0.5303 - accuracy: 0.8021 - val_loss: 0.5110 - val_accuracy: 0.7972 - 58s/epoch - 2s/step\n",
            "Epoch 21/30\n",
            "WARNING:tensorflow:Can save best model only with val_acc available, skipping.\n",
            "30/30 - 57s - loss: 0.5225 - accuracy: 0.8010 - val_loss: 0.5116 - val_accuracy: 0.7890 - 57s/epoch - 2s/step\n",
            "Epoch 22/30\n",
            "WARNING:tensorflow:Can save best model only with val_acc available, skipping.\n",
            "30/30 - 58s - loss: 0.5120 - accuracy: 0.8072 - val_loss: 0.5272 - val_accuracy: 0.7960 - 58s/epoch - 2s/step\n",
            "Epoch 23/30\n",
            "WARNING:tensorflow:Can save best model only with val_acc available, skipping.\n",
            "30/30 - 62s - loss: 0.5045 - accuracy: 0.8087 - val_loss: 0.4955 - val_accuracy: 0.8183 - 62s/epoch - 2s/step\n",
            "Epoch 24/30\n",
            "WARNING:tensorflow:Can save best model only with val_acc available, skipping.\n",
            "30/30 - 62s - loss: 0.5051 - accuracy: 0.8085 - val_loss: 0.5135 - val_accuracy: 0.8206 - 62s/epoch - 2s/step\n",
            "Epoch 25/30\n",
            "WARNING:tensorflow:Can save best model only with val_acc available, skipping.\n",
            "30/30 - 59s - loss: 0.4993 - accuracy: 0.8158 - val_loss: 0.4913 - val_accuracy: 0.8265 - 59s/epoch - 2s/step\n",
            "Epoch 26/30\n",
            "WARNING:tensorflow:Can save best model only with val_acc available, skipping.\n",
            "30/30 - 58s - loss: 0.5103 - accuracy: 0.8069 - val_loss: 0.5010 - val_accuracy: 0.8218 - 58s/epoch - 2s/step\n",
            "Epoch 27/30\n",
            "WARNING:tensorflow:Can save best model only with val_acc available, skipping.\n",
            "30/30 - 70s - loss: 0.4859 - accuracy: 0.8179 - val_loss: 0.4900 - val_accuracy: 0.8242 - 70s/epoch - 2s/step\n",
            "Epoch 28/30\n",
            "WARNING:tensorflow:Can save best model only with val_acc available, skipping.\n",
            "30/30 - 69s - loss: 0.4848 - accuracy: 0.8224 - val_loss: 0.4830 - val_accuracy: 0.8288 - 69s/epoch - 2s/step\n",
            "Epoch 29/30\n",
            "WARNING:tensorflow:Can save best model only with val_acc available, skipping.\n",
            "30/30 - 59s - loss: 0.4723 - accuracy: 0.8245 - val_loss: 0.4829 - val_accuracy: 0.8101 - 59s/epoch - 2s/step\n",
            "Epoch 30/30\n",
            "WARNING:tensorflow:Can save best model only with val_acc available, skipping.\n",
            "30/30 - 58s - loss: 0.4753 - accuracy: 0.8241 - val_loss: 0.4600 - val_accuracy: 0.8335 - 58s/epoch - 2s/step\n"
          ]
        }
      ],
      "source": [
        "# training\n",
        "model.compile(loss='categorical_crossentropy', optimizer='adam', metrics=['accuracy'])\n",
        "checkpointer = ModelCheckpoint(filepath='models/Best_model.h5', monitor='val_acc', verbose=1, save_best_only=True)\n",
        "history = model.fit(X_train, y_train, validation_data=(X_val, y_val), batch_size=batch_size, epochs=num_epochs, verbose=verbose, shuffle=True, callbacks=[checkpointer]) "
      ]
    },
    {
      "cell_type": "code",
      "execution_count": 13,
      "metadata": {},
      "outputs": [],
      "source": [
        "# write the training result\n",
        "temp = history.history\n",
        "json_str = json.dumps(temp)\n",
        "with open('model3.json', 'w') as json_file:\n",
        "    json_file.write(json_str)"
      ]
    }
  ],
  "metadata": {
    "accelerator": "GPU",
    "colab": {
      "authorship_tag": "ABX9TyPPnAmS2E9KL5KD7JvKxreV",
      "collapsed_sections": [],
      "include_colab_link": true,
      "name": "cnn_ecg_classification.ipynb",
      "provenance": []
    },
    "interpreter": {
      "hash": "546766e819ef0fa6d501d8eaeae3d9bc280d443c111d414a3291bc6018c0d329"
    },
    "kernelspec": {
      "display_name": "Python 3.9.7 ('base')",
      "language": "python",
      "name": "python3"
    },
    "language_info": {
      "codemirror_mode": {
        "name": "ipython",
        "version": 3
      },
      "file_extension": ".py",
      "mimetype": "text/x-python",
      "name": "python",
      "nbconvert_exporter": "python",
      "pygments_lexer": "ipython3",
      "version": "3.9.7"
    }
  },
  "nbformat": 4,
  "nbformat_minor": 0
}
